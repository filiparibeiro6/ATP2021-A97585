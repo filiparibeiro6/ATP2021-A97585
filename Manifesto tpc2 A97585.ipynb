{
 "cells": [
  {
   "cell_type": "markdown",
   "metadata": {},
   "source": [
    "# TPC2"
   ]
  },
  {
   "cell_type": "markdown",
   "metadata": {},
   "source": [
    "### Keyname: \n",
    "* TPC2\n",
    "\n",
    "### Título: \n",
    "* Adivinha o número\n",
    "\n",
    "### Data de início: \n",
    "* 2020/10/14\n",
    "\n",
    "### Data de finalização: \n",
    "* 2020/10/19\n",
    "\n",
    "### Supervisor: \n",
    "* José Carlos Leite Ramalho, www.di.uminho.pt/~jcr/\n",
    "\n",
    "### Autor: \n",
    "* Filipa Alexandra Cardoso Ribeiro\n",
    "\n",
    "### Resumo:\n",
    "* O jogo tem como objetivo, o computador conseguir encontrar o número escolhido pelo utilizador no menor número de passos possível, esse número terá que estar entre 1 e 100.\n",
    "* Para que o computador encontre o valor do utilizador no menor número de passos possiveis, temos que recorrer à pesquisa binária, isto é, um algoritmo de busca que segue o paradigma de divisão.\n",
    "* Em primeiro lugar cria-se uma função, em seguida vamos criar 3 variaveis, que irão ser os limites do intervalo que iremos fazer a pesquisa binária e o valor do meio que será a soma do número da direita (limite inferior) e o número da esquerda (limite superior) a dividir por 2, isto é, a média.\n",
    "* Depois do utilizador, responder se o computador acertou ou não o valor (número do meio), se a resposta for \"não\" entramos num ciclo onde irá perguntar ao utilizador se o valor é maior ou menor. Se a resposta do utilizador for \"menor\" o número da direita será substituido pelo número do meio e se a resposta for \"maior\" o número da esquerda será substituido pelo número do meio, em seguida fará a média dos valor novos e perguntará ao utilizador se desta vez acertou no valor. \n",
    "* Se a resposta continuar a ser \"não\" então irá continuar o ciclo e repeti-lo,  se a resposta se alterar para \"sim\" irá sair do ciclo e dizer ao utilizador que acertou o valor escolhido.\n",
    "* Dentro desta função, também se colocou o computador a dizer ao utilizador o número de tentativas que utilizou. Para isto, no início criamos uma variavel, neste caso chamada \"tentativas\" que inicia com o valor 1 e dentro do ciclo, quando o utilizador responde que não é o valor escolhido, adicionamos 1 tentativa utilizada. Sempre que repetir o ciclo irá sempre acrescentar uma tentativa. No final retorna o número final de tentativas."
   ]
  }
 ],
 "metadata": {
  "kernelspec": {
   "display_name": "Python 3",
   "language": "python",
   "name": "python3"
  },
  "language_info": {
   "codemirror_mode": {
    "name": "ipython",
    "version": 3
   },
   "file_extension": ".py",
   "mimetype": "text/x-python",
   "name": "python",
   "nbconvert_exporter": "python",
   "pygments_lexer": "ipython3",
   "version": "3.8.3"
  }
 },
 "nbformat": 4,
 "nbformat_minor": 4
}
