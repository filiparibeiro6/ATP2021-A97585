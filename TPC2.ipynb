{
 "cells": [
  {
   "cell_type": "markdown",
   "metadata": {},
   "source": [
    "# TPC2"
   ]
  },
  {
   "cell_type": "code",
   "execution_count": null,
   "metadata": {},
   "outputs": [],
   "source": [
    "def adivinhanum():\n",
    "    print(\"Escolha um número de 0 a 100.\")\n",
    "    num_esquerda=0\n",
    "    num_direita=100\n",
    "    num_meio=100/2\n",
    "    tentativas=1\n",
    "    print(\"O valor que pensou é:\",num_meio)\n",
    "    pergunta=input(\"S-SIM OU N-NÃO?\")\n",
    "    pergunta=pergunta.upper()\n",
    "    while(pergunta== \"N\"):\n",
    "        tentativas=tentativas+1\n",
    "        estado_do_jogo=input(\"O valor que pensou é maior (>) ou menor (<)?\")\n",
    "        \n",
    "        if (estado_do_jogo == \"<\"):\n",
    "            num_direita = num_meio\n",
    "        elif(estado_do_jogo == \">\"):\n",
    "            num_esquerda = num_meio \n",
    "               \n",
    "        soma=num_esquerda+num_direita\n",
    "        num_meio=int(soma/2)   \n",
    "        print(\"O valor que pensou é:\", num_meio)\n",
    "        pergunta=input(\"S-SIM OU N-NÃO?\")\n",
    "        pergunta=pergunta.upper()\n",
    "    \n",
    "    if(pergunta==\"S\"):\n",
    "        print(\"Adivinhei em\", tentativas, \"tentativa/s! Obrigada por ter jogado!\")\n",
    "adivinhanum()"
   ]
  }
 ],
 "metadata": {
  "kernelspec": {
   "display_name": "Python 3",
   "language": "python",
   "name": "python3"
  },
  "language_info": {
   "codemirror_mode": {
    "name": "ipython",
    "version": 3
   },
   "file_extension": ".py",
   "mimetype": "text/x-python",
   "name": "python",
   "nbconvert_exporter": "python",
   "pygments_lexer": "ipython3",
   "version": "3.8.3"
  }
 },
 "nbformat": 4,
 "nbformat_minor": 4
}
