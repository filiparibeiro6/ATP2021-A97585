{
 "cells": [
  {
   "cell_type": "markdown",
   "metadata": {},
   "source": [
    "# TPC2\n",
    "**Keyname:** TPC3\n",
    "\n",
    "**Título:** Bubblesort\n",
    "\n",
    "**Data de início:** 2021/10/20\n",
    "\n",
    "**Data de finalização:** 2021/10/25\n",
    "\n",
    "**Supervisor:** José Carlos Leite Ramalho, www.di.uminho.pt/~jcr/\n",
    "\n",
    "**Autor:** Filipa Alexandra Cardoso Ribeiro"
   ]
  },
  {
   "cell_type": "markdown",
   "metadata": {},
   "source": [
    "**Resumo:**\n",
    "    O utilizador escolhe perante o menu a opção que desejar, dentro da função menu() existem várias condições que dependente da opção introduzida pelo utilizador, irá buscar o resultado à função correspondente a seguir explicada:\n",
    "    \n",
    "* **Listamanual:** Esta função tem como objetivo introduzir elementos numa lista que inicialmente se encontra vazia. Começa por questionar ao utilizador o número de elementos que deseja introduzir na lista, em seguida entra num ciclo onde se perguta ao utilizador qual o valor que deseja colocar na lista e adiciona-o na lista, este ciclo apenas termina quando o comprimento da lista atingir o numero anteriormente escolhido pelo utlizador ( numero de elementos que gostava de adicionar à lista).\n",
    "\n",
    "* **Listaaleatoria:**  Esta função tem como objetivo introduzir elementos numa lista já criada, mas de uma forma aleatória. O utilizador apenas responde quantos elementos deseja colocar na lista, tal como a função anterior entra num ciclo que funciona de igual modo, apenas há uma difenreça, em vez de ser o utilizador a introduzir o elemento que pretende adicionar, é o computador que gera os seus próprios elementos e adiciona-os á lista.\n",
    "\n",
    "* **bubbleSort:** Esta função tem o ojetivo de ordenar a lista já criada a anteriormente. Começa por um ciclo for que percorre cada indice da lista até chegar ao comprimento da lista ( ultimo elemento ). Dentro deste ciclo, colocaremos outro que terá uma condição que compara o primeiro elemento da lista com o segundo e se o primeiro fôr maior trocam de posição, e passam a comparar o segundo elemento com o terceiro e assim sucessivamente. Ambos os ciclos param quando o número de trocas se igualar a zero.\n",
    "\n",
    "* **maximo:** Esta função tem como objetivo retornar o valor máximo da lista. Começa por um ciclo for que percorre cada indice da lista até chegar ao comprimento da lista ( ultimo elemento ). Dentro deste ciclo, colocaremos outro que terá a seguinte condição, se o primeiro elemento fôr superior ao segundo então adiciona a uma lista já criada anteriomente, denominada maxi, o primeiro elemento. Em seguida compara o elemento que foi adicionado á lista, chamada maxi, se este fôr maior do que o elemento já existente na lista irá ser eliminado da lista, ficando o maior elemento na lista. Este ciclo, percorre todos os elementos da lista e será interrompido quando chegar ao final da lista.Se o segundo elemento for superior ao primeiro ocorre o inverso.\n",
    "\n",
    "* **soma1:** Esta função tem como objetivo retornar o valor da soma de todos os elementos da lista. Começa com um ciclo onde a variável criada é igual a si própria mais o elemento da lista, cujo o indice corresponde. Dentro do ciclo o indice estará sempre a aumentar 1 valor que faz com que percorra todos os elementos da lista e que haja a soma de todos, uma vez que a condição que interrompe o ciclo é o indice ser superior ao último elemento da lista (comprimento da lista).\n",
    "\n",
    "* **media:** Esta função tem como objetivo calcular a média dos elementos da lista. Simplesmente, pega-se no valor da função anterior ( soma1 ), que é a soma de todos os elementos da lista e divide-se pelo comprimento da lista, que é o número de elementos.\n",
    "\n",
    "* **acrescentar:** Esta função tem como objetivo adicionar um elemento á lista existente. Simplesmente questiona-se ao utilizador qual o valor que deseja acrescentar á lista e atravez da função append introduzimos esse valor na lista.\n",
    "\n",
    "* **limparlista:** Esta função tem como objetivo limpar a lista. Isto realiza-se através da função clear, que elimina todos os elementos da lista tornando-a numa lista vazia.\n"
   ]
  },
  {
   "cell_type": "code",
   "execution_count": null,
   "metadata": {},
   "outputs": [],
   "source": []
  }
 ],
 "metadata": {
  "kernelspec": {
   "display_name": "Python 3",
   "language": "python",
   "name": "python3"
  },
  "language_info": {
   "codemirror_mode": {
    "name": "ipython",
    "version": 3
   },
   "file_extension": ".py",
   "mimetype": "text/x-python",
   "name": "python",
   "nbconvert_exporter": "python",
   "pygments_lexer": "ipython3",
   "version": "3.8.3"
  }
 },
 "nbformat": 4,
 "nbformat_minor": 4
}
