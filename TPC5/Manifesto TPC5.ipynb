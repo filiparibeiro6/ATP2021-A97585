{
 "cells": [
  {
   "cell_type": "markdown",
   "metadata": {},
   "source": [
    "# TPC5\n",
    "**Keyname:** TPC5\n",
    "\n",
    "**Título:** Manipulação de Polinómios\n",
    "\n",
    "**Data de início:** 2021/11/13\n",
    "\n",
    "**Data de finalização:** 2021/11/15\n",
    "\n",
    "**Supervisor:** José Carlos Leite Ramalho, (www.di.uminho.pt/~jcr/)\n",
    "\n",
    "**Autor:** Filipa Alexandra Cardoso Ribeiro"
   ]
  },
  {
   "cell_type": "markdown",
   "metadata": {},
   "source": [
    "**Resumo:** Algoritmo que permite **criar um polinómio** , **calcular o seu grau , calcular a ordenada** dando a coordenada, **calcular a derivada** do polinómio e **simplificar o polinómio**. Dentro deste algoritmo, ainda permite apresentar uma **tabela**, isto é, num intervalo selecionado pelo utilizador, retorna uma tabela onde na primeira coluna é apresentado o valor da coordenada e na segunda coluna o calculo do polinómio nessa coordenada (a ordenada)."
   ]
  },
  {
   "cell_type": "code",
   "execution_count": null,
   "metadata": {},
   "outputs": [],
   "source": []
  }
 ],
 "metadata": {
  "kernelspec": {
   "display_name": "Python 3",
   "language": "python",
   "name": "python3"
  },
  "language_info": {
   "codemirror_mode": {
    "name": "ipython",
    "version": 3
   },
   "file_extension": ".py",
   "mimetype": "text/x-python",
   "name": "python",
   "nbconvert_exporter": "python",
   "pygments_lexer": "ipython3",
   "version": "3.8.3"
  }
 },
 "nbformat": 4,
 "nbformat_minor": 4
}
