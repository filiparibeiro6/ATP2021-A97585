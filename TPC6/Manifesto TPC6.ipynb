{
 "cells": [
  {
   "cell_type": "markdown",
   "metadata": {},
   "source": [
    "# TPC6\n",
    "**Keyname:** TPC6\n",
    "\n",
    "**Título:** Manipulação de polinómios\n",
    "\n",
    "**Data de início:** 2021/11/19\n",
    "\n",
    "**Data de finalização:** 2021/11/20\n",
    "\n",
    "**Supervisor:** José Carlos Leite Ramalho, (www.di.uminho.pt/~jcr/)\n",
    "\n",
    "**Autor:** Filipa Alexandra Cardoso Ribeiro"
   ]
  },
  {
   "cell_type": "markdown",
   "metadata": {},
   "source": [
    "**Resumo:** Adição ao código anterior, uma função que permite a visualização do gráfico correspondente ao polinómio inserido."
   ]
  },
  {
   "cell_type": "code",
   "execution_count": null,
   "metadata": {},
   "outputs": [],
   "source": []
  }
 ],
 "metadata": {
  "kernelspec": {
   "display_name": "Python 3",
   "language": "python",
   "name": "python3"
  },
  "language_info": {
   "codemirror_mode": {
    "name": "ipython",
    "version": 3
   },
   "file_extension": ".py",
   "mimetype": "text/x-python",
   "name": "python",
   "nbconvert_exporter": "python",
   "pygments_lexer": "ipython3",
   "version": "3.8.3"
  }
 },
 "nbformat": 4,
 "nbformat_minor": 4
}
