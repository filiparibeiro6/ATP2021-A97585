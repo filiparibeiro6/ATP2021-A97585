{
 "cells": [
  {
   "cell_type": "code",
   "execution_count": 12,
   "metadata": {},
   "outputs": [],
   "source": [
    "def criarTermo(coef, exp):\n",
    "    return(coef, exp)\n",
    "def criarPolinomio():\n",
    "    return[]\n",
    "def inserirTermo(p,t):\n",
    "    return p.append(t)\n",
    "def criarpoltotal():\n",
    "    ntermos=int(input(\"Insira quantos termos deseja introduzir:\"))\n",
    "    p=criarPolinomio()\n",
    "    for i in range (ntermos):\n",
    "        coef=int(input(\"Introduza o coeficiente que pretende:\"))\n",
    "        exp=int(input(\"Introduza o expoente do coeficiente anterior:\"))\n",
    "        t=criarTermo(coef, exp)\n",
    "        inserirTermo(p,t)\n",
    "    return p"
   ]
  },
  {
   "cell_type": "code",
   "execution_count": 13,
   "metadata": {},
   "outputs": [],
   "source": [
    "def verTermo(t):\n",
    "    c,e=t\n",
    "    if e == 0:\n",
    "        return(str(c))\n",
    "    elif c == 1:\n",
    "        return(\"x^\" + str(e))\n",
    "    elif e == 1:\n",
    "        return(str(c) + \"x\")\n",
    "    elif c == 0:\n",
    "        return(\"\")\n",
    "    else:\n",
    "        return(str(c) + \"x^\" + str(e))\n",
    "def verPolinomio(p):\n",
    "    politexto=\"\"\n",
    "    if len(p)!=0:\n",
    "        politexto=verTermo(p[0])\n",
    "        for i in range(1,len(p)):\n",
    "            if p[i][0] > 0:\n",
    "                politexto = politexto + \" + \" + verTermo(p[i])\n",
    "            else:\n",
    "                politexto = politexto + verTermo (p[i])\n",
    "    return( politexto )\n",
    "    "
   ]
  },
  {
   "cell_type": "code",
   "execution_count": 14,
   "metadata": {},
   "outputs": [],
   "source": [
    "def grauPol(p):\n",
    "    grau=p[0][1]\n",
    "    for i in range (1, len(p)):\n",
    "        if p [i][1] > grau:\n",
    "            grau = p [i][1]\n",
    "    return grau"
   ]
  },
  {
   "cell_type": "code",
   "execution_count": 15,
   "metadata": {},
   "outputs": [],
   "source": [
    "def calcPonto(p,x):\n",
    "    valor = 0\n",
    "    for (c,e) in p:\n",
    "        valor = valor + c * x ** e\n",
    "    return valor"
   ]
  },
  {
   "cell_type": "code",
   "execution_count": 16,
   "metadata": {},
   "outputs": [],
   "source": [
    "def criarTabela(p):\n",
    "    linhas = int(input(\" Introduza o número de linhas que deseja que a tabela tenha:\"))\n",
    "    print(\"x\" + \"::\" + verPolinomio(p))\n",
    "    for i in range (0, linhas+1):\n",
    "        print(str(i) + \"->\" + str(calcPonto(p,i)))"
   ]
  },
  {
   "cell_type": "code",
   "execution_count": 17,
   "metadata": {},
   "outputs": [],
   "source": [
    "def derivarPol(p):\n",
    "    derivada=[]\n",
    "    for (c,e) in p:\n",
    "        if e != 0:\n",
    "            derivada. append((c * e, e - 1))\n",
    "    return derivada"
   ]
  },
  {
   "cell_type": "code",
   "execution_count": 18,
   "metadata": {},
   "outputs": [],
   "source": [
    "def ordenarExp(p):\n",
    "    listaExp=[]\n",
    "    for i in range(len(p)):\n",
    "        trocas=0\n",
    "        i=0\n",
    "        while i<(len(p)-1):\n",
    "            if int(p[i][1]) > int(p[i+1][1]):\n",
    "                p[i],p[i+1] = p[i+1],p[i]\n",
    "                trocas=1\n",
    "            i=i+1\n",
    "        if trocas== 0:\n",
    "            return p\n",
    "def simplificar(p):\n",
    "    i=0\n",
    "    while i<len(p)-1:\n",
    "        if p[i][1]==p[i+1][1]:\n",
    "            valor=p[i][0]+p[i+1][0]\n",
    "            termo=criarTermo(valor,p[i][1])\n",
    "            inserirTermo(p,termo)\n",
    "            p.pop(i)\n",
    "            p.pop(i)\n",
    "            p=ordenarExp(p)\n",
    "            i=0\n",
    "        else:\n",
    "            i=i+1\n",
    "    return p"
   ]
  },
  {
   "cell_type": "code",
   "execution_count": 19,
   "metadata": {},
   "outputs": [],
   "source": [
    "import matplotlib.pyplot as plt\n",
    "def graficoPol(p):\n",
    "    xinf=int(input(\"Introduza o menor valor da escala das abcissas que deseja: \"))\n",
    "    xsup=int(input(\"Introduza o maior valor da escala das abcissas que deseja: \"))\n",
    "    if xinf > xsup:\n",
    "        print(\"Introduziu mal os valores!\")\n",
    "    x=[n for n in range(xinf,xsup+1)]\n",
    "    y=[]\n",
    "    for n in x:\n",
    "        y.append(calcPonto(p,n))\n",
    "    plt.plot(x, y, color=\"blue\", linewidth=2, marker=\"o\", markerfacecolor=\"green\", markersize=4)\n",
    "    eixoXx=[x[0]-1,x[-1]+1]\n",
    "    eixoXy=[0,0]\n",
    "    plt.plot(eixoXx, eixoXy, color=\"red\", linewidth=1)\n",
    "    supy=calcPonto(p,xsup)\n",
    "    infy=calcPonto(p,xinf)\n",
    "    if (supy > infy):\n",
    "        eixoYy=[infy-1,supy+1]\n",
    "    else:\n",
    "        eixoYy=[supy-1,infy+1]\n",
    "    eixoYx=[0,0]\n",
    "    plt.plot(eixoYx, eixoYy, color=\"red\", linewidth=1)\n",
    "    plt.xlabel(\"Abcissas\")\n",
    "    plt.ylabel(\"Ordenadas\")\n",
    "    plt.title(\"O gráfico que representa o polinómio:\")\n",
    "    plt.show()\n"
   ]
  },
  {
   "cell_type": "code",
   "execution_count": 20,
   "metadata": {},
   "outputs": [],
   "source": [
    "def menu():\n",
    "    opcao=input(\"\"\"Escolha uma das opções seguintes:\n",
    "    (1) Criar um polinómio\n",
    "    (2) Calcular o grau do polinómio\n",
    "    (3) Calcular o polinómio num ponto\n",
    "    (4) Calcular derivada do polinómio\n",
    "    (5) Simplificar polinómio\n",
    "    (6) Apresentar a tabela do polinómio\n",
    "    (7) Apresentar gráfico do polinómio\n",
    "    (0) Sair\n",
    "     R.:\"\"\")\n",
    "    if (opcao != \"0\"):\n",
    "        if opcao == \"1\":\n",
    "            resultado = verPolinomio(criarpoltotal())\n",
    "            print( resultado )\n",
    "        \n",
    "        elif opcao == \"2\":\n",
    "            resultado = grauPol(criarpoltotal())\n",
    "            print( \"O grau do polinómio que inseriu é: \", resultado )\n",
    "        \n",
    "        elif opcao == \"3\":\n",
    "            x = int(input(\"Introduza a coordenada x:\"))\n",
    "            resultado = calcPonto(criarpoltotal(),x)\n",
    "            print( \"O valor da ordenada correspondente à coordenada que inseriu é: \", resultado)\n",
    "        \n",
    "        elif opcao == \"4\":\n",
    "            resultado = verPolinomio(derivarPol(criarpoltotal()))\n",
    "            print(\"A derivada do polinómio que inseriu é:\", resultado)\n",
    "        \n",
    "        elif opcao == \"5\": \n",
    "            resultado = verPolinomio(simplificar(ordenarExp(criarpoltotal())))\n",
    "            print(resultado)\n",
    "        \n",
    "        elif opcao == \"6\":\n",
    "            p=criarpoltotal()\n",
    "            criarTabela(p)\n",
    "        \n",
    "        elif opcao == \"7\":\n",
    "            graficoPol(criarpoltotal())\n",
    "        menu()   \n",
    "    elif opcao==\"0\":\n",
    "        print(\"Até à próxima!\")\n",
    "    else:\n",
    "        print(\"Não introduziu nenhuma das opções!\")\n",
    "        menu()"
   ]
  },
  {
   "cell_type": "code",
   "execution_count": null,
   "metadata": {},
   "outputs": [],
   "source": [
    "menu()"
   ]
  },
  {
   "cell_type": "code",
   "execution_count": null,
   "metadata": {},
   "outputs": [],
   "source": []
  }
 ],
 "metadata": {
  "kernelspec": {
   "display_name": "Python 3",
   "language": "python",
   "name": "python3"
  },
  "language_info": {
   "codemirror_mode": {
    "name": "ipython",
    "version": 3
   },
   "file_extension": ".py",
   "mimetype": "text/x-python",
   "name": "python",
   "nbconvert_exporter": "python",
   "pygments_lexer": "ipython3",
   "version": "3.8.3"
  }
 },
 "nbformat": 4,
 "nbformat_minor": 4
}
