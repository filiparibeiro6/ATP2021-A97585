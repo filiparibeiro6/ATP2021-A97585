{
 "cells": [
  {
   "cell_type": "markdown",
   "metadata": {},
   "source": [
    "# TPC7\n",
    "**Keyname:** TPC7\n",
    "\n",
    "**Título:** Manipulação de base de dados\n",
    "\n",
    "**Data de início:** 2021/11/26\n",
    "\n",
    "**Data de finalização:** 2021/11/28\n",
    "\n",
    "**Supervisor:** José Carlos Leite Ramalho, (www.di.uminho.pt/~jcr/)\n",
    "\n",
    "**Autor:** Filipa Alexandra Cardoso Ribeiro\n",
    "\n",
    "**Resumo:** Conclusão do trabalho desenvolvido na aula. Este aplicado à leitura e ao processamento de datasets, analisando e organizando a informação contida no mesmo."
   ]
  },
  {
   "cell_type": "markdown",
   "metadata": {},
   "source": [
    "## Dataset\n",
    "\n",
    "Para a resolução dos exercícios desta ficha, descarrega o dataset de alunos do site da UC.\n",
    "\n",
    "### Estrutura do dataset\n",
    "O dataset tem a seguinte estrutura:\n",
    "\n",
    "```\n",
    "id_aluno,nome,curso,tpc1,tpc2,tpc3,tpc4\n",
    "\"a1\",\"Aysha Melanie Gilberto\",\"LEI\",12,8,19,8\n",
    "\"a2\",\"Igor André Cantanhede\",\"ENGFIS\",12,16,18,20\n",
    "\"a3\",\"Laurénio Narciso\",\"ENGFIS\",8,14,15,14\n",
    "\"a4\",\"Jasnoor Casegas\",\"LCC\",14,20,17,11\n",
    "\"a5\",\"Tawseef Rebouças\",\"ENGBIOM\",13,14,13,17\n",
    "\"a6\",\"Eryk Clementino\",\"LEI\",10,19,11,14\n",
    "...\n",
    "```"
   ]
  },
  {
   "cell_type": "markdown",
   "metadata": {},
   "source": [
    "## Leitura (exercício 1)\n",
    "\n",
    "Depois de pensares num modelo adequado especifica a função que lê o ficheiro e povoa esse modelo."
   ]
  },
  {
   "cell_type": "code",
   "execution_count": 48,
   "metadata": {
    "scrolled": true
   },
   "outputs": [],
   "source": [
    "#BDAlunos=[Alunos]\n",
    "#Aluno={id:\"...\", nome:\"...\", curso:\"...\", tpc:[int]}\n",
    "\n",
    "def lerDataset(fnome):\n",
    "    bd=[]\n",
    "    f=open(fnome, encoding=\"utf-8\")\n",
    "    f.readline()\n",
    "    for linha in f:\n",
    "        novaLinha=linha.replace(\"/n\", \"\")\n",
    "        campos=novaLinha.split(\",\")\n",
    "        aluno={}\n",
    "        aluno[\"id\"]=campos[0]\n",
    "        aluno[\"nome\"]=campos[1]\n",
    "        aluno[\"curso\"]=campos[2]\n",
    "        listaTPC=[]\n",
    "        for tpc in campos[3:]:\n",
    "            listaTPC.append(int(tpc))\n",
    "        aluno[\"tpc\"]=listaTPC\n",
    "        bd.append(aluno)\n",
    "    return bd\n",
    "lerDataset(\"alunos.csv\")"
   ]
  },
  {
   "cell_type": "markdown",
   "metadata": {},
   "source": [
    "## Listagem (exercício 2)\n",
    "\n",
    "Especifica uma função que faça a listagem no monitor dos vários registos de informação.\n",
    "Tenta dar a forma duma tabela em que as colunas têm todas a mesma dimensão."
   ]
  },
  {
   "cell_type": "code",
   "execution_count": 43,
   "metadata": {},
   "outputs": [
    {
     "name": "stdout",
     "output_type": "stream",
     "text": [
      "  id   |    nome    |    curso    |     tpcs\n",
      "---------------------------------------------\n",
      "\"a1\"|\"Aysha Melanie Gilberto\"|\"LEI\"|[12, 8, 19, 8]\n",
      "\"a2\"|\"Igor André Cantanhede\"|\"ENGFIS\"|[12, 16, 18, 20]\n",
      "\"a3\"|\"Laurénio Narciso\"|\"ENGFIS\"|[8, 14, 15, 14]\n",
      "\"a4\"|\"Jasnoor Casegas\"|\"LCC\"|[14, 20, 17, 11]\n",
      "\"a5\"|\"Tawseef Rebouças\"|\"ENGBIOM\"|[13, 14, 13, 17]\n",
      "\"a6\"|\"Eryk Clementino\"|\"LEI\"|[10, 19, 11, 14]\n",
      "\"a7\"|\"Ianna Noivo\"|\"ENGBIOM\"|[15, 15, 17, 16]\n",
      "\"a8\"|\"Ayla Thaissa Reina\"|\"ENGBIOM\"|[12, 8, 8, 18]\n",
      "\"a9\"|\"Cássia Viviane Coitã\"|\"ENGFIS\"|[19, 9, 14, 10]\n",
      "\"a10\"|\"Koby Vindima\"|\"LEI\"|[9, 14, 20, 13]\n",
      "\"a11\"|\"Gustavo Martim Hernandez\"|\"ENGBIOM\"|[11, 8, 14, 11]\n",
      "\"a12\"|\"Siddarta Beiriz\"|\"LEI\"|[17, 10, 16, 16]\n",
      "\"a13\"|\"Daniela Patrícia Montes\"|\"ENGBIOM\"|[15, 15, 18, 19]\n",
      "\"a14\"|\"Kaylla Pessego\"|\"LCC\"|[10, 14, 17, 15]\n",
      "\"a15\"|\"Bianca Cristina Primitivo\"|\"ENGBIOM\"|[16, 9, 18, 10]\n",
      "\"a16\"|\"Magna Galhardo\"|\"ENGFIS\"|[20, 18, 9, 14]\n",
      "\"a17\"|\"Grace Isabel Patriarca\"|\"LCC\"|[19, 13, 9, 10]\n",
      "\"a18\"|\"Saubhagya Buco\"|\"LEI\"|[18, 18, 17, 8]\n",
      "\"a19\"|\"Ivo Vicente Boisa\"|\"ENGBIOM\"|[14, 10, 18, 13]\n",
      "\"a20\"|\"Vivaan Castilhos\"|\"ENGFIS\"|[15, 14, 11, 12]\n",
      "\"a21\"|\"Layana Camejo\"|\"ENGFIS\"|[17, 12, 10, 20]\n",
      "\"a22\"|\"Mahdi Menoita\"|\"ENGFIS\"|[11, 16, 8, 16]\n",
      "\"a23\"|\"Yifan Cortinado\"|\"LEI\"|[19, 16, 8, 18]\n",
      "\"a24\"|\"Éder Sodré\"|\"ENGFIS\"|[17, 13, 14, 12]\n",
      "\"a25\"|\"Dhriti Magano\"|\"ENGFIS\"|[19, 11, 8, 19]\n",
      "\"a26\"|\"Steve Devesa\"|\"ENGBIOM\"|[10, 16, 8, 13]\n",
      "\"a27\"|\"Lisandro Mariano Picassinos\"|\"ENGFIS\"|[13, 10, 16, 10]\n",
      "\"a28\"|\"Itiel Quinoy\"|\"LEI\"|[18, 18, 8, 9]\n",
      "\"a29\"|\"Pranika Reimoo\"|\"LEI\"|[12, 16, 15, 13]\n",
      "\"a30\"|\"Manaia Viseu\"|\"ENGFIS\"|[8, 12, 20, 11]\n",
      "\"a31\"|\"Eva Manuel Caio\"|\"ENGFIS\"|[12, 16, 20, 16]\n",
      "\"a32\"|\"Ariane Sofia Foja\"|\"LEI\"|[20, 19, 13, 18]\n",
      "\"a33\"|\"Jaime António Pauseiro\"|\"LCC\"|[19, 13, 8, 10]\n",
      "\"a34\"|\"Tanisha Marzagoo\"|\"ENGBIOM\"|[14, 19, 13, 14]\n",
      "\"a35\"|\"Siyon Anca\"|\"LEI\"|[8, 13, 19, 15]\n",
      "\"a36\"|\"Diana Beatriz Boavista\"|\"LCC\"|[19, 18, 17, 12]\n",
      "\"a37\"|\"Elisiário Saberio\"|\"ENGFIS\"|[18, 18, 10, 19]\n",
      "\"a38\"|\"Maira Brites\"|\"ENGFIS\"|[13, 16, 15, 17]\n",
      "\"a39\"|\"Victória Gabriela Incenso\"|\"LEI\"|[17, 14, 13, 8]\n",
      "\"a40\"|\"Najua Serôdio\"|\"LCC\"|[17, 9, 16, 18]\n",
      "\"a41\"|\"Lachezar Rosas\"|\"ENGBIOM\"|[16, 18, 18, 15]\n",
      "\"a42\"|\"Kattleya Trigueiro\"|\"ENGFIS\"|[19, 16, 14, 15]\n",
      "\"a43\"|\"Tatiana Guiomar Maricoto\"|\"LCC\"|[19, 8, 15, 11]\n",
      "\"a44\"|\"Mélanie Daniela Bugalhão\"|\"LCC\"|[17, 9, 17, 18]\n",
      "\"a45\"|\"Imayame Hespanha\"|\"ENGFIS\"|[20, 17, 19, 11]\n",
      "\"a46\"|\"Yuri Gabriel Baganha\"|\"LCC\"|[15, 18, 12, 16]\n",
      "\"a47\"|\"Moisés João Cornelio\"|\"LEI\"|[20, 16, 19, 17]\n",
      "\"a48\"|\"Nazir Assif Trinta\"|\"LEI\"|[14, 14, 12, 8]\n",
      "\"a49\"|\"Karamjot Arezes\"|\"LEI\"|[10, 9, 20, 12]\n",
      "\"a50\"|\"Rishit Justa\"|\"ENGBIOM\"|[9, 9, 9, 12]\n",
      "\"a51\"|\"Iara de Jesus Gonçalo\"|\"ENGFIS\"|[14, 8, 12, 14]\n",
      "\"a52\"|\"Stepfan Owusu Lercas\"|\"LEI\"|[18, 9, 16, 14]\n",
      "\"a53\"|\"Abner Umbelina\"|\"ENGBIOM\"|[20, 16, 10, 13]\n",
      "\"a54\"|\"Dânia Lucy Montelobo\"|\"LEI\"|[18, 19, 15, 11]\n",
      "\"a55\"|\"Myla Lopez\"|\"ENGFIS\"|[9, 17, 12, 20]\n",
      "\"a56\"|\"Hakeem Brazão\"|\"LEI\"|[18, 18, 13, 20]\n",
      "\"a57\"|\"Quinn Aveiro\"|\"ENGBIOM\"|[17, 16, 9, 13]\n",
      "\"a58\"|\"Etienne Constentino\"|\"ENGBIOM\"|[15, 8, 9, 13]\n",
      "\"a59\"|\"Emanuel Marcos Delfina\"|\"LEI\"|[9, 15, 8, 13]\n",
      "\"a60\"|\"Mariana Catarina Ramalheira\"|\"ENGBIOM\"|[17, 19, 19, 11]\n",
      "\"a61\"|\"Bradley Tabau\"|\"LCC\"|[16, 19, 16, 12]\n",
      "\"a62\"|\"Ahmadou Bamba Calcinha\"|\"LCC\"|[13, 20, 8, 16]\n",
      "\"a63\"|\"Francisco Pedro Derresa\"|\"ENGFIS\"|[8, 12, 20, 18]\n",
      "\"a64\"|\"Gil Miguel Lima\"|\"ENGBIOM\"|[16, 19, 8, 14]\n",
      "\"a65\"|\"Leonor Pedro Carqueijeiro\"|\"ENGBIOM\"|[19, 11, 17, 8]\n",
      "\"a66\"|\"Genrikh Maximovich Vila-Chã\"|\"ENGFIS\"|[12, 15, 13, 9]\n",
      "\"a67\"|\"Mayra Larissa Rolo\"|\"LCC\"|[15, 14, 17, 12]\n",
      "\"a68\"|\"Leandro David Dunhoo\"|\"ENGBIOM\"|[15, 14, 11, 15]\n",
      "\"a69\"|\"Adele Belchior\"|\"ENGBIOM\"|[17, 12, 20, 12]\n",
      "\"a70\"|\"Frantceska Borreca\"|\"ENGFIS\"|[18, 11, 19, 8]\n",
      "\"a71\"|\"Derrick Urias\"|\"ENGFIS\"|[11, 10, 8, 14]\n",
      "\"a72\"|\"Ana Gabriel Quirino\"|\"LCC\"|[10, 17, 8, 19]\n",
      "\"a73\"|\"Carolina Antoo\"|\"ENGBIOM\"|[16, 19, 20, 10]\n",
      "\"a74\"|\"Vânia Sofia Porfirio\"|\"ENGBIOM\"|[18, 19, 18, 15]\n",
      "\"a75\"|\"Dárcio Wosvaldo Tudela\"|\"LEI\"|[8, 18, 9, 18]\n",
      "\"a76\"|\"Zhara Couxão\"|\"ENGFIS\"|[16, 10, 14, 12]\n",
      "\"a77\"|\"Tomé Ferrito\"|\"LCC\"|[14, 10, 15, 19]\n",
      "\"a78\"|\"Iasmin Paloma Chaveiro\"|\"LCC\"|[8, 15, 19, 9]\n",
      "\"a79\"|\"Sadagi Cruto\"|\"ENGBIOM\"|[13, 18, 14, 18]\n",
      "\"a80\"|\"Maria Carolina Josué\"|\"ENGFIS\"|[17, 20, 17, 18]\n",
      "\"a81\"|\"Quaresma Lancastre\"|\"ENGBIOM\"|[17, 9, 16, 19]\n",
      "\"a82\"|\"Evaldir Gervasio\"|\"ENGFIS\"|[16, 19, 15, 8]\n",
      "\"a83\"|\"Dolorinda Adolfo\"|\"ENGFIS\"|[11, 20, 16, 8]\n",
      "\"a84\"|\"Laudário Frasão\"|\"LCC\"|[20, 19, 10, 19]\n",
      "\"a85\"|\"Rómula Jeronimo\"|\"ENGFIS\"|[10, 13, 12, 11]\n",
      "\"a86\"|\"Clésio Rodeiro\"|\"LCC\"|[9, 13, 12, 18]\n",
      "\"a87\"|\"Feliciano José Avis\"|\"ENGFIS\"|[9, 11, 10, 9]\n",
      "\"a88\"|\"Afonso Adriano Marca\"|\"ENGBIOM\"|[8, 16, 12, 15]\n",
      "\"a89\"|\"Victória Miguel Rosete\"|\"ENGFIS\"|[8, 13, 13, 18]\n",
      "\"a90\"|\"Tome Teroso\"|\"ENGFIS\"|[9, 9, 10, 17]\n",
      "\"a91\"|\"Constança Filipa Melado\"|\"LEI\"|[10, 12, 8, 20]\n",
      "\"a92\"|\"Madalena Jesus Alfaiate\"|\"LEI\"|[17, 14, 9, 17]\n",
      "\"a93\"|\"Bivhan Reimbau\"|\"LCC\"|[17, 11, 8, 12]\n",
      "\"a94\"|\"Viviana Sofia Gaspar\"|\"ENGBIOM\"|[16, 16, 20, 14]\n",
      "\"a95\"|\"Íris Soraia Chiote\"|\"LEI\"|[11, 11, 17, 16]\n",
      "\"a96\"|\"Anaïs Sintra\"|\"LCC\"|[19, 19, 12, 9]\n",
      "\"a97\"|\"Salvador Banaca\"|\"LCC\"|[12, 9, 20, 12]\n",
      "\"a98\"|\"Guilherme Matias Almeirão\"|\"ENGFIS\"|[14, 9, 12, 11]\n",
      "\"a99\"|\"Xavier Luís Bulha\"|\"ENGFIS\"|[17, 13, 8, 10]\n",
      "\"a100\"|\"Tude Searas\"|\"LEI\"|[20, 17, 8, 14]\n"
     ]
    }
   ],
   "source": [
    "def listarDataset(bd):\n",
    "    print(\"  id   |    nome    |    curso    |     tpcs\")\n",
    "    print(\"---------------------------------------------\")\n",
    "    for a in bd:\n",
    "        print(a[\"id\"] + \"|\" + a[\"nome\"] + \"|\" + a[\"curso\"] + \"|\" + str(a[\"tpc\"]))\n",
    "listarDataset(lerDataset(\"alunos.csv\"))"
   ]
  },
  {
   "cell_type": "markdown",
   "metadata": {},
   "source": [
    "## Consulta de um registo (exercício 3)\n",
    "\n",
    "Especifica uma função que, dado o id de um aluno, coloca a sua informação no monitor. Para além disso, indica também a média dos TPC realizados."
   ]
  },
  {
   "cell_type": "code",
   "execution_count": 44,
   "metadata": {},
   "outputs": [
    {
     "name": "stdout",
     "output_type": "stream",
     "text": [
      "Introduza o id do aluno (c/ parênteses):\"a26\"\n",
      "  id   |    nome    |    curso    | média tpc\n",
      "---------------------------------------------\n",
      "\"a26\"|\"Steve Devesa\"|\"ENGBIOM\"|11.75\n"
     ]
    }
   ],
   "source": [
    "def consultarDataset(bd):\n",
    "    resposta=input(\"Introduza o id do aluno (c/ parênteses):\")\n",
    "    encontrado=False\n",
    "    for linha in bd:\n",
    "        if  linha[\"id\"] == resposta:\n",
    "            print(\"  id   |    nome    |    curso    | média tpc\")\n",
    "            print(\"---------------------------------------------\")\n",
    "            print(linha[\"id\"] + \"|\" + linha[\"nome\"] + \"|\" + linha[\"curso\"] + \"|\" + str(sum(linha[\"tpc\"])/len(linha[\"tpc\"])))\n",
    "            encontrado=True\n",
    "    if encontrado==False:\n",
    "        print(\"Não existe nenhum aluno com esse id!\")\n",
    "consultarDataset(lerDataset(\"alunos.csv\"))"
   ]
  },
  {
   "cell_type": "markdown",
   "metadata": {},
   "source": [
    "## Top 10 (exercício 4)\n",
    "\n",
    "Especifica uma função que dá como resultado uma lista com os alunos com as 10 médias mais altas: id, nome, curso, média."
   ]
  },
  {
   "cell_type": "code",
   "execution_count": 45,
   "metadata": {},
   "outputs": [
    {
     "name": "stdout",
     "output_type": "stream",
     "text": [
      "\"a47\"|\"Moisés João Cornelio\"|\"LEI\"|18.0\n",
      "\"a80\"|\"Maria Carolina Josué\"|\"ENGFIS\"|18.0\n",
      "\"a32\"|\"Ariane Sofia Foja\"|\"LEI\"|17.5\n",
      "\"a74\"|\"Vânia Sofia Porfirio\"|\"ENGBIOM\"|17.5\n",
      "\"a56\"|\"Hakeem Brazão\"|\"LEI\"|17.25\n",
      "\"a84\"|\"Laudário Frasão\"|\"LCC\"|17.0\n",
      "\"a13\"|\"Daniela Patrícia Montes\"|\"ENGBIOM\"|16.75\n",
      "\"a41\"|\"Lachezar Rosas\"|\"ENGBIOM\"|16.75\n",
      "\"a45\"|\"Imayame Hespanha\"|\"ENGFIS\"|16.75\n",
      "\"a60\"|\"Mariana Catarina Ramalheira\"|\"ENGBIOM\"|16.5\n"
     ]
    }
   ],
   "source": [
    "def top10(bd):\n",
    "    listaMedia=[]\n",
    "    for a in bd:\n",
    "        a[\"tpc\"]= sum(a[\"tpc\"])/len(a[\"tpc\"])\n",
    "        listaMedia.append(a[\"tpc\"])\n",
    "        listaMedia.sort()\n",
    "        listaMedia.reverse()\n",
    "    n=0\n",
    "    while(n<10):\n",
    "        for a in bd:\n",
    "            if listaMedia[n]==a[\"tpc\"] and n<10:\n",
    "                n=n+1\n",
    "                print(a[\"id\"] + \"|\" + a[\"nome\"] + \"|\" + a[\"curso\"] + \"|\" + str(a[\"tpc\"]))              \n",
    "top10(lerDataset(\"alunos.csv\"))"
   ]
  },
  {
   "cell_type": "markdown",
   "metadata": {},
   "source": [
    "## Distribuição por curso (exercício 5)\n",
    "\n",
    "Especifica uma função que dá como resultado uma lista de pares indicando quantos alunos há em cada curso."
   ]
  },
  {
   "cell_type": "code",
   "execution_count": 46,
   "metadata": {},
   "outputs": [
    {
     "data": {
      "text/plain": [
       "{'\"LEI\"': 23, '\"ENGFIS\"': 32, '\"LCC\"': 20, '\"ENGBIOM\"': 25}"
      ]
     },
     "execution_count": 46,
     "metadata": {},
     "output_type": "execute_result"
    }
   ],
   "source": [
    "def distribPorCurso(bd):\n",
    "    distribuicao={}\n",
    "    for a in bd:\n",
    "        if a[\"curso\"] in  distribuicao.keys():\n",
    "            distribuicao[a[\"curso\"]]=distribuicao[a[\"curso\"]]+1\n",
    "        else:\n",
    "            distribuicao[a[\"curso\"]]=1\n",
    "\n",
    "    return distribuicao\n",
    "distribPorCurso(lerDataset(\"alunos.csv\"))"
   ]
  },
  {
   "cell_type": "markdown",
   "metadata": {},
   "source": [
    "## Distribuição por médias (exercício 6)\n",
    "\n",
    "Especifica uma função que dá como resultado uma lista de pares, média e número de alunos com essa média (considera o valor inteiro da média)."
   ]
  },
  {
   "cell_type": "code",
   "execution_count": 47,
   "metadata": {},
   "outputs": [
    {
     "data": {
      "text/plain": [
       "{'11.75': 2,\n",
       " '16.5': 4,\n",
       " '12.75': 7,\n",
       " '15.5': 1,\n",
       " '14.25': 6,\n",
       " '13.5': 2,\n",
       " '15.75': 4,\n",
       " '11.5': 3,\n",
       " '13.0': 6,\n",
       " '14.0': 5,\n",
       " '11.0': 1,\n",
       " '14.75': 5,\n",
       " '16.75': 3,\n",
       " '13.25': 5,\n",
       " '15.25': 8,\n",
       " '13.75': 7,\n",
       " '12.25': 2,\n",
       " '16.0': 2,\n",
       " '17.5': 2,\n",
       " '12.5': 2,\n",
       " '15.0': 2,\n",
       " '16.25': 2,\n",
       " '18.0': 2,\n",
       " '12.0': 4,\n",
       " '9.75': 2,\n",
       " '14.5': 5,\n",
       " '17.25': 1,\n",
       " '11.25': 3,\n",
       " '10.75': 1,\n",
       " '17.0': 1}"
      ]
     },
     "execution_count": 47,
     "metadata": {},
     "output_type": "execute_result"
    }
   ],
   "source": [
    "def distribPorMedia(bd):\n",
    "    for a in bd:\n",
    "        a[\"tpc\"]= str(sum(a[\"tpc\"])/len(a[\"tpc\"]))\n",
    "    distribuicao={}\n",
    "    for a in bd:\n",
    "        if a[\"tpc\"] in  distribuicao.keys():\n",
    "            distribuicao[a[\"tpc\"]]=distribuicao[a[\"tpc\"]]+1\n",
    "        else:\n",
    "            distribuicao[a[\"tpc\"]]=1\n",
    "    return(distribuicao)\n",
    "distribPorMedia(lerDataset(\"alunos.csv\"))"
   ]
  },
  {
   "cell_type": "markdown",
   "metadata": {},
   "source": [
    "# Gráficos\n",
    "\n",
    "## Gráfico da distribuição por curso (exercício 7)\n",
    "\n",
    "Especifica uma função que faz o plot dum gráfico com a distribuição de alunos por curso."
   ]
  },
  {
   "cell_type": "code",
   "execution_count": 21,
   "metadata": {},
   "outputs": [
    {
     "data": {
      "image/png": "[encoded data removed]",
      "text/plain": [
       "<Figure size 432x288 with 1 Axes>"
      ]
     },
     "metadata": {
      "needs_background": "light"
     },
     "output_type": "display_data"
    }
   ],
   "source": [
    "import matplotlib.pyplot as plt\n",
    "def plotDistribPorCurso(distrib):\n",
    "    cursos = distrib.keys()\n",
    "    nAlunos = distrib.values()\n",
    "    plt.xlabel(\"Cursos\")\n",
    "    plt.ylabel(\"Nº de alunos\")\n",
    "    plt.title(\"Distribuição por curso:\")\n",
    "    plt.bar(cursos,nAlunos, color=\"pink\")\n",
    "plotDistribPorCurso(distribPorCurso(lerDataset(\"alunos.csv\")))"
   ]
  },
  {
   "cell_type": "markdown",
   "metadata": {},
   "source": [
    "## Gráfico da distribuição por média (exercício 8)\n",
    "\n",
    "Especifica uma função que faz o plot dum gráfico com a distribuição de alunos por média."
   ]
  },
  {
   "cell_type": "code",
   "execution_count": 8,
   "metadata": {},
   "outputs": [
    {
     "data": {
      "image/png": "[encoded data removed]",
      "text/plain": [
       "<Figure size 1080x1080 with 1 Axes>"
      ]
     },
     "metadata": {
      "needs_background": "light"
     },
     "output_type": "display_data"
    }
   ],
   "source": [
    "import matplotlib.pyplot as plt\n",
    "def plotDistribPorMedia(distrib):\n",
    "    media = distrib.keys()\n",
    "    nAlunos = distrib.values()\n",
    "    plt.figure(1, figsize=(len(media)/2, len(nAlunos)/2))\n",
    "    plt.xlabel(\"Média\")\n",
    "    plt.ylabel(\"Nº de alunos\")\n",
    "    plt.title(\"Distribuição por média:\")\n",
    "    plt.bar(media,nAlunos,color = ['pink', 'purple', 'violet','mediumpurple'])\n",
    "    plt.xticks(rotation=90)\n",
    "    plt.show()\n",
    "plotDistribPorMedia(distribPorMedia(lerDataset(\"alunos.csv\")))"
   ]
  },
  {
   "cell_type": "code",
   "execution_count": null,
   "metadata": {},
   "outputs": [],
   "source": []
  }
 ],
 "metadata": {
  "interpreter": {
   "hash": "aee8b7b246df8f9039afb4144a1f6fd8d2ca17a180786b69acc140d282b71a49"
  },
  "kernelspec": {
   "display_name": "Python 3",
   "language": "python",
   "name": "python3"
  },
  "language_info": {
   "codemirror_mode": {
    "name": "ipython",
    "version": 3
   },
   "file_extension": ".py",
   "mimetype": "text/x-python",
   "name": "python",
   "nbconvert_exporter": "python",
   "pygments_lexer": "ipython3",
   "version": "3.8.3"
  }
 },
 "nbformat": 4,
 "nbformat_minor": 2
}
